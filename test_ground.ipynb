{
 "cells": [
  {
   "cell_type": "code",
   "execution_count": null,
   "metadata": {},
   "outputs": [],
   "source": [
    "import os\n",
    "from tqdm.notebook import tqdm"
   ]
  },
  {
   "cell_type": "code",
   "execution_count": null,
   "metadata": {},
   "outputs": [],
   "source": [
    "# Set your image folder path\n",
    "image_folder = \"/home/iot/SRGAN_implementation/samples/high_res_image\"\n",
    "\n",
    "# Get list of image files (you can adjust the extensions as necessary)\n",
    "image_extensions = (\".jpg\", \".jpeg\", \".png\")\n",
    "files = [f for f in os.listdir(image_folder) if f.lower().endswith(image_extensions)]\n",
    "\n",
    "# Rename images\n",
    "for idx, filename in enumerate(tqdm(files, desc=\"Renaming images\"), start=1):\n",
    "    # Split the filename and extension\n",
    "    name, ext = os.path.splitext(filename)\n",
    "    new_name = f\"image_{idx}{ext}\"\n",
    "    src = os.path.join(image_folder, filename)\n",
    "    dst = os.path.join(image_folder, new_name)\n",
    "    os.rename(src, dst)\n",
    "\n",
    "print(\"Renaming complete!\")"
   ]
  },
  {
   "cell_type": "code",
   "execution_count": null,
   "metadata": {},
   "outputs": [],
   "source": [
    "from torchvision import models\n",
    "\n",
    "model = models.vgg19(pretrained=True).features\n",
    "model.eval()"
   ]
  },
  {
   "cell_type": "code",
   "execution_count": null,
   "metadata": {},
   "outputs": [],
   "source": [
    "from utils.prepare_dataset import PairedDataset\n",
    "from torchvision.transforms import ToPILImage\n",
    "from torch.utils.data import DataLoader\n",
    "from IPython.display import display\n",
    "\n",
    "hr_dir = \"/home/iot/SRGAN_implementation/data/High_Res_Images\"  # Adjust to your HR images folder\n",
    "batch_size = 16\n",
    "num_workers = 4\n",
    "\n",
    "dataset = PairedDataset(hr_dir)\n",
    "dataloader = DataLoader(dataset, batch_size=batch_size, shuffle=True, num_workers=num_workers)\n",
    "    \n",
    "for batch in dataloader:\n",
    "    for pair in batch:\n",
    "        hr = pair[0]\n",
    "        lr = pair[1]\n",
    "        print(pair)\n",
    "        # hr = ToPILImage()(hr)\n",
    "        # lr = ToPILImage()(lr)\n",
    "        # print(\"High resolution image:\")\n",
    "        # display(hr)\n",
    "        # print(\"Low resolution image:\")\n",
    "        # display(lr)\n",
    "        break"
   ]
  },
  {
   "cell_type": "code",
   "execution_count": null,
   "metadata": {},
   "outputs": [],
   "source": []
  }
 ],
 "metadata": {
  "kernelspec": {
   "display_name": "sajid",
   "language": "python",
   "name": "python3"
  },
  "language_info": {
   "codemirror_mode": {
    "name": "ipython",
    "version": 3
   },
   "file_extension": ".py",
   "mimetype": "text/x-python",
   "name": "python",
   "nbconvert_exporter": "python",
   "pygments_lexer": "ipython3",
   "version": "3.12.6"
  }
 },
 "nbformat": 4,
 "nbformat_minor": 2
}
